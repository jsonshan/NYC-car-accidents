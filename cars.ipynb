{
 "cells": [
  {
   "cell_type": "code",
   "execution_count": 1,
   "metadata": {},
   "outputs": [
    {
     "name": "stderr",
     "output_type": "stream",
     "text": [
      "C:\\Users\\jason\\AppData\\Local\\Temp\\ipykernel_9696\\3442920277.py:1: DeprecationWarning: \n",
      "Pyarrow will become a required dependency of pandas in the next major release of pandas (pandas 3.0),\n",
      "(to allow more performant data types, such as the Arrow string type, and better interoperability with other libraries)\n",
      "but was not found to be installed on your system.\n",
      "If this would cause problems for you,\n",
      "please provide us feedback at https://github.com/pandas-dev/pandas/issues/54466\n",
      "        \n",
      "  import pandas as pd\n"
     ]
    }
   ],
   "source": [
    "import pandas as pd\n",
    "import numpy as np\n",
    "\n",
    "import seaborn as sns\n",
    "import matplotlib.pyplot as plt\n",
    "\n",
    "data = pd.read_csv('car-accidents.csv', nrows=500000)"
   ]
  },
  {
   "cell_type": "code",
   "execution_count": 2,
   "metadata": {},
   "outputs": [
    {
     "data": {
      "text/html": [
       "<div>\n",
       "<style scoped>\n",
       "    .dataframe tbody tr th:only-of-type {\n",
       "        vertical-align: middle;\n",
       "    }\n",
       "\n",
       "    .dataframe tbody tr th {\n",
       "        vertical-align: top;\n",
       "    }\n",
       "\n",
       "    .dataframe thead th {\n",
       "        text-align: right;\n",
       "    }\n",
       "</style>\n",
       "<table border=\"1\" class=\"dataframe\">\n",
       "  <thead>\n",
       "    <tr style=\"text-align: right;\">\n",
       "      <th></th>\n",
       "      <th>CRASH DATE</th>\n",
       "      <th>CRASH TIME</th>\n",
       "      <th>BOROUGH</th>\n",
       "      <th>ZIP CODE</th>\n",
       "      <th>LATITUDE</th>\n",
       "      <th>LONGITUDE</th>\n",
       "      <th>LOCATION</th>\n",
       "      <th>ON STREET NAME</th>\n",
       "      <th>CROSS STREET NAME</th>\n",
       "      <th>OFF STREET NAME</th>\n",
       "      <th>...</th>\n",
       "      <th>CONTRIBUTING FACTOR VEHICLE 2</th>\n",
       "      <th>CONTRIBUTING FACTOR VEHICLE 3</th>\n",
       "      <th>CONTRIBUTING FACTOR VEHICLE 4</th>\n",
       "      <th>CONTRIBUTING FACTOR VEHICLE 5</th>\n",
       "      <th>COLLISION_ID</th>\n",
       "      <th>VEHICLE TYPE CODE 1</th>\n",
       "      <th>VEHICLE TYPE CODE 2</th>\n",
       "      <th>VEHICLE TYPE CODE 3</th>\n",
       "      <th>VEHICLE TYPE CODE 4</th>\n",
       "      <th>VEHICLE TYPE CODE 5</th>\n",
       "    </tr>\n",
       "  </thead>\n",
       "  <tbody>\n",
       "    <tr>\n",
       "      <th>0</th>\n",
       "      <td>2/20/2024</td>\n",
       "      <td>18:25</td>\n",
       "      <td>MANHATTAN</td>\n",
       "      <td>10019.0</td>\n",
       "      <td>40.765250</td>\n",
       "      <td>-73.995094</td>\n",
       "      <td>(40.76525, -73.995094)</td>\n",
       "      <td>WEST 49 STREET</td>\n",
       "      <td>11 AVENUE</td>\n",
       "      <td>NaN</td>\n",
       "      <td>...</td>\n",
       "      <td>NaN</td>\n",
       "      <td>NaN</td>\n",
       "      <td>NaN</td>\n",
       "      <td>NaN</td>\n",
       "      <td>4704029</td>\n",
       "      <td>Sedan</td>\n",
       "      <td>NaN</td>\n",
       "      <td>NaN</td>\n",
       "      <td>NaN</td>\n",
       "      <td>NaN</td>\n",
       "    </tr>\n",
       "    <tr>\n",
       "      <th>1</th>\n",
       "      <td>2/20/2024</td>\n",
       "      <td>13:15</td>\n",
       "      <td>NaN</td>\n",
       "      <td>NaN</td>\n",
       "      <td>40.679787</td>\n",
       "      <td>-73.938440</td>\n",
       "      <td>(40.679787, -73.93844)</td>\n",
       "      <td>FULTON STREET</td>\n",
       "      <td>NaN</td>\n",
       "      <td>NaN</td>\n",
       "      <td>...</td>\n",
       "      <td>Unspecified</td>\n",
       "      <td>NaN</td>\n",
       "      <td>NaN</td>\n",
       "      <td>NaN</td>\n",
       "      <td>4704115</td>\n",
       "      <td>Sedan</td>\n",
       "      <td>NaN</td>\n",
       "      <td>NaN</td>\n",
       "      <td>NaN</td>\n",
       "      <td>NaN</td>\n",
       "    </tr>\n",
       "    <tr>\n",
       "      <th>2</th>\n",
       "      <td>2/20/2024</td>\n",
       "      <td>9:15</td>\n",
       "      <td>QUEENS</td>\n",
       "      <td>11106.0</td>\n",
       "      <td>40.759422</td>\n",
       "      <td>-73.927470</td>\n",
       "      <td>(40.759422, -73.92747)</td>\n",
       "      <td>NaN</td>\n",
       "      <td>NaN</td>\n",
       "      <td>34-02     31 STREET</td>\n",
       "      <td>...</td>\n",
       "      <td>NaN</td>\n",
       "      <td>NaN</td>\n",
       "      <td>NaN</td>\n",
       "      <td>NaN</td>\n",
       "      <td>4704050</td>\n",
       "      <td>Pick-up Truck</td>\n",
       "      <td>NaN</td>\n",
       "      <td>NaN</td>\n",
       "      <td>NaN</td>\n",
       "      <td>NaN</td>\n",
       "    </tr>\n",
       "    <tr>\n",
       "      <th>3</th>\n",
       "      <td>2/20/2024</td>\n",
       "      <td>19:00</td>\n",
       "      <td>BRONX</td>\n",
       "      <td>10463.0</td>\n",
       "      <td>40.873917</td>\n",
       "      <td>-73.909260</td>\n",
       "      <td>(40.873917, -73.90926)</td>\n",
       "      <td>NaN</td>\n",
       "      <td>NaN</td>\n",
       "      <td>54        WEST 225 STREET</td>\n",
       "      <td>...</td>\n",
       "      <td>Unspecified</td>\n",
       "      <td>NaN</td>\n",
       "      <td>NaN</td>\n",
       "      <td>NaN</td>\n",
       "      <td>4704256</td>\n",
       "      <td>Sedan</td>\n",
       "      <td>NaN</td>\n",
       "      <td>NaN</td>\n",
       "      <td>NaN</td>\n",
       "      <td>NaN</td>\n",
       "    </tr>\n",
       "    <tr>\n",
       "      <th>4</th>\n",
       "      <td>2/20/2024</td>\n",
       "      <td>19:30</td>\n",
       "      <td>NaN</td>\n",
       "      <td>NaN</td>\n",
       "      <td>NaN</td>\n",
       "      <td>NaN</td>\n",
       "      <td>NaN</td>\n",
       "      <td>HENRY HUDSON PARKWAY</td>\n",
       "      <td>NaN</td>\n",
       "      <td>NaN</td>\n",
       "      <td>...</td>\n",
       "      <td>NaN</td>\n",
       "      <td>NaN</td>\n",
       "      <td>NaN</td>\n",
       "      <td>NaN</td>\n",
       "      <td>4704085</td>\n",
       "      <td>Box Truck</td>\n",
       "      <td>NaN</td>\n",
       "      <td>NaN</td>\n",
       "      <td>NaN</td>\n",
       "      <td>NaN</td>\n",
       "    </tr>\n",
       "  </tbody>\n",
       "</table>\n",
       "<p>5 rows × 29 columns</p>\n",
       "</div>"
      ],
      "text/plain": [
       "  CRASH DATE CRASH TIME    BOROUGH  ZIP CODE   LATITUDE  LONGITUDE  \\\n",
       "0  2/20/2024      18:25  MANHATTAN   10019.0  40.765250 -73.995094   \n",
       "1  2/20/2024      13:15        NaN       NaN  40.679787 -73.938440   \n",
       "2  2/20/2024       9:15     QUEENS   11106.0  40.759422 -73.927470   \n",
       "3  2/20/2024      19:00      BRONX   10463.0  40.873917 -73.909260   \n",
       "4  2/20/2024      19:30        NaN       NaN        NaN        NaN   \n",
       "\n",
       "                 LOCATION        ON STREET NAME CROSS STREET NAME  \\\n",
       "0  (40.76525, -73.995094)        WEST 49 STREET         11 AVENUE   \n",
       "1  (40.679787, -73.93844)         FULTON STREET               NaN   \n",
       "2  (40.759422, -73.92747)                   NaN               NaN   \n",
       "3  (40.873917, -73.90926)                   NaN               NaN   \n",
       "4                     NaN  HENRY HUDSON PARKWAY               NaN   \n",
       "\n",
       "             OFF STREET NAME  ...  CONTRIBUTING FACTOR VEHICLE 2  \\\n",
       "0                        NaN  ...                            NaN   \n",
       "1                        NaN  ...                    Unspecified   \n",
       "2        34-02     31 STREET  ...                            NaN   \n",
       "3  54        WEST 225 STREET  ...                    Unspecified   \n",
       "4                        NaN  ...                            NaN   \n",
       "\n",
       "   CONTRIBUTING FACTOR VEHICLE 3  CONTRIBUTING FACTOR VEHICLE 4  \\\n",
       "0                            NaN                            NaN   \n",
       "1                            NaN                            NaN   \n",
       "2                            NaN                            NaN   \n",
       "3                            NaN                            NaN   \n",
       "4                            NaN                            NaN   \n",
       "\n",
       "   CONTRIBUTING FACTOR VEHICLE 5  COLLISION_ID  VEHICLE TYPE CODE 1  \\\n",
       "0                            NaN       4704029                Sedan   \n",
       "1                            NaN       4704115                Sedan   \n",
       "2                            NaN       4704050        Pick-up Truck   \n",
       "3                            NaN       4704256                Sedan   \n",
       "4                            NaN       4704085            Box Truck   \n",
       "\n",
       "   VEHICLE TYPE CODE 2  VEHICLE TYPE CODE 3 VEHICLE TYPE CODE 4  \\\n",
       "0                  NaN                  NaN                 NaN   \n",
       "1                  NaN                  NaN                 NaN   \n",
       "2                  NaN                  NaN                 NaN   \n",
       "3                  NaN                  NaN                 NaN   \n",
       "4                  NaN                  NaN                 NaN   \n",
       "\n",
       "  VEHICLE TYPE CODE 5  \n",
       "0                 NaN  \n",
       "1                 NaN  \n",
       "2                 NaN  \n",
       "3                 NaN  \n",
       "4                 NaN  \n",
       "\n",
       "[5 rows x 29 columns]"
      ]
     },
     "execution_count": 2,
     "metadata": {},
     "output_type": "execute_result"
    }
   ],
   "source": [
    "data.head()"
   ]
  },
  {
   "cell_type": "code",
   "execution_count": 3,
   "metadata": {},
   "outputs": [
    {
     "name": "stdout",
     "output_type": "stream",
     "text": [
      "<class 'pandas.core.frame.DataFrame'>\n",
      "RangeIndex: 500000 entries, 0 to 499999\n",
      "Data columns (total 29 columns):\n",
      " #   Column                         Non-Null Count   Dtype  \n",
      "---  ------                         --------------   -----  \n",
      " 0   CRASH DATE                     500000 non-null  object \n",
      " 1   CRASH TIME                     500000 non-null  object \n",
      " 2   BOROUGH                        326039 non-null  object \n",
      " 3   ZIP CODE                       325964 non-null  float64\n",
      " 4   LATITUDE                       458926 non-null  float64\n",
      " 5   LONGITUDE                      458926 non-null  float64\n",
      " 6   LOCATION                       458926 non-null  object \n",
      " 7   ON STREET NAME                 371559 non-null  object \n",
      " 8   CROSS STREET NAME              238533 non-null  object \n",
      " 9   OFF STREET NAME                128413 non-null  object \n",
      " 10  NUMBER OF PERSONS INJURED      499999 non-null  float64\n",
      " 11  NUMBER OF PERSONS KILLED       500000 non-null  int64  \n",
      " 12  NUMBER OF PEDESTRIANS INJURED  500000 non-null  int64  \n",
      " 13  NUMBER OF PEDESTRIANS KILLED   500000 non-null  int64  \n",
      " 14  NUMBER OF CYCLIST INJURED      500000 non-null  int64  \n",
      " 15  NUMBER OF CYCLIST KILLED       500000 non-null  int64  \n",
      " 16  NUMBER OF MOTORIST INJURED     500000 non-null  int64  \n",
      " 17  NUMBER OF MOTORIST KILLED      500000 non-null  int64  \n",
      " 18  CONTRIBUTING FACTOR VEHICLE 1  497864 non-null  object \n",
      " 19  CONTRIBUTING FACTOR VEHICLE 2  401902 non-null  object \n",
      " 20  CONTRIBUTING FACTOR VEHICLE 3  42695 non-null   object \n",
      " 21  CONTRIBUTING FACTOR VEHICLE 4  10781 non-null   object \n",
      " 22  CONTRIBUTING FACTOR VEHICLE 5  3129 non-null    object \n",
      " 23  COLLISION_ID                   500000 non-null  int64  \n",
      " 24  VEHICLE TYPE CODE 1            495409 non-null  object \n",
      " 25  VEHICLE TYPE CODE 2            362247 non-null  object \n",
      " 26  VEHICLE TYPE CODE 3            40199 non-null   object \n",
      " 27  VEHICLE TYPE CODE 4            10294 non-null   object \n",
      " 28  VEHICLE TYPE CODE 5            3031 non-null    object \n",
      "dtypes: float64(4), int64(8), object(17)\n",
      "memory usage: 110.6+ MB\n"
     ]
    }
   ],
   "source": [
    "data.info()"
   ]
  },
  {
   "cell_type": "code",
   "execution_count": 4,
   "metadata": {},
   "outputs": [
    {
     "data": {
      "text/plain": [
       "CRASH DATE                            0\n",
       "CRASH TIME                            0\n",
       "BOROUGH                          173961\n",
       "ZIP CODE                         174036\n",
       "LATITUDE                          41074\n",
       "LONGITUDE                         41074\n",
       "LOCATION                          41074\n",
       "ON STREET NAME                   128441\n",
       "CROSS STREET NAME                261467\n",
       "OFF STREET NAME                  371587\n",
       "NUMBER OF PERSONS INJURED             1\n",
       "NUMBER OF PERSONS KILLED              0\n",
       "NUMBER OF PEDESTRIANS INJURED         0\n",
       "NUMBER OF PEDESTRIANS KILLED          0\n",
       "NUMBER OF CYCLIST INJURED             0\n",
       "NUMBER OF CYCLIST KILLED              0\n",
       "NUMBER OF MOTORIST INJURED            0\n",
       "NUMBER OF MOTORIST KILLED             0\n",
       "CONTRIBUTING FACTOR VEHICLE 1      2136\n",
       "CONTRIBUTING FACTOR VEHICLE 2     98098\n",
       "CONTRIBUTING FACTOR VEHICLE 3    457305\n",
       "CONTRIBUTING FACTOR VEHICLE 4    489219\n",
       "CONTRIBUTING FACTOR VEHICLE 5    496871\n",
       "COLLISION_ID                          0\n",
       "VEHICLE TYPE CODE 1                4591\n",
       "VEHICLE TYPE CODE 2              137753\n",
       "VEHICLE TYPE CODE 3              459801\n",
       "VEHICLE TYPE CODE 4              489706\n",
       "VEHICLE TYPE CODE 5              496969\n",
       "dtype: int64"
      ]
     },
     "execution_count": 4,
     "metadata": {},
     "output_type": "execute_result"
    }
   ],
   "source": [
    "data.isnull().sum()"
   ]
  },
  {
   "cell_type": "code",
   "execution_count": 5,
   "metadata": {},
   "outputs": [],
   "source": [
    "data.drop_duplicates(inplace=True)"
   ]
  },
  {
   "cell_type": "code",
   "execution_count": 6,
   "metadata": {},
   "outputs": [
    {
     "data": {
      "text/html": [
       "<div>\n",
       "<style scoped>\n",
       "    .dataframe tbody tr th:only-of-type {\n",
       "        vertical-align: middle;\n",
       "    }\n",
       "\n",
       "    .dataframe tbody tr th {\n",
       "        vertical-align: top;\n",
       "    }\n",
       "\n",
       "    .dataframe thead th {\n",
       "        text-align: right;\n",
       "    }\n",
       "</style>\n",
       "<table border=\"1\" class=\"dataframe\">\n",
       "  <thead>\n",
       "    <tr style=\"text-align: right;\">\n",
       "      <th></th>\n",
       "      <th>ZIP CODE</th>\n",
       "      <th>LATITUDE</th>\n",
       "      <th>LONGITUDE</th>\n",
       "      <th>NUMBER OF PERSONS INJURED</th>\n",
       "      <th>NUMBER OF PERSONS KILLED</th>\n",
       "      <th>NUMBER OF PEDESTRIANS INJURED</th>\n",
       "      <th>NUMBER OF PEDESTRIANS KILLED</th>\n",
       "      <th>NUMBER OF CYCLIST INJURED</th>\n",
       "      <th>NUMBER OF CYCLIST KILLED</th>\n",
       "      <th>NUMBER OF MOTORIST INJURED</th>\n",
       "      <th>NUMBER OF MOTORIST KILLED</th>\n",
       "      <th>COLLISION_ID</th>\n",
       "    </tr>\n",
       "  </thead>\n",
       "  <tbody>\n",
       "    <tr>\n",
       "      <th>count</th>\n",
       "      <td>325964.000000</td>\n",
       "      <td>458926.000000</td>\n",
       "      <td>458926.000000</td>\n",
       "      <td>499999.000000</td>\n",
       "      <td>500000.000000</td>\n",
       "      <td>500000.000000</td>\n",
       "      <td>500000.000000</td>\n",
       "      <td>500000.000000</td>\n",
       "      <td>500000.000000</td>\n",
       "      <td>500000.000000</td>\n",
       "      <td>500000.000000</td>\n",
       "      <td>5.000000e+05</td>\n",
       "    </tr>\n",
       "    <tr>\n",
       "      <th>mean</th>\n",
       "      <td>10892.806264</td>\n",
       "      <td>40.481492</td>\n",
       "      <td>-73.469970</td>\n",
       "      <td>0.381771</td>\n",
       "      <td>0.001948</td>\n",
       "      <td>0.060030</td>\n",
       "      <td>0.000858</td>\n",
       "      <td>0.037618</td>\n",
       "      <td>0.000178</td>\n",
       "      <td>0.276588</td>\n",
       "      <td>0.000860</td>\n",
       "      <td>4.311369e+06</td>\n",
       "    </tr>\n",
       "    <tr>\n",
       "      <th>std</th>\n",
       "      <td>528.224943</td>\n",
       "      <td>3.147564</td>\n",
       "      <td>5.711266</td>\n",
       "      <td>0.744994</td>\n",
       "      <td>0.046262</td>\n",
       "      <td>0.249115</td>\n",
       "      <td>0.029483</td>\n",
       "      <td>0.193554</td>\n",
       "      <td>0.013340</td>\n",
       "      <td>0.710974</td>\n",
       "      <td>0.032113</td>\n",
       "      <td>1.446522e+05</td>\n",
       "    </tr>\n",
       "    <tr>\n",
       "      <th>min</th>\n",
       "      <td>10000.000000</td>\n",
       "      <td>0.000000</td>\n",
       "      <td>-74.254845</td>\n",
       "      <td>0.000000</td>\n",
       "      <td>0.000000</td>\n",
       "      <td>0.000000</td>\n",
       "      <td>0.000000</td>\n",
       "      <td>0.000000</td>\n",
       "      <td>0.000000</td>\n",
       "      <td>0.000000</td>\n",
       "      <td>0.000000</td>\n",
       "      <td>3.828540e+06</td>\n",
       "    </tr>\n",
       "    <tr>\n",
       "      <th>25%</th>\n",
       "      <td>10457.000000</td>\n",
       "      <td>40.667114</td>\n",
       "      <td>-73.962906</td>\n",
       "      <td>0.000000</td>\n",
       "      <td>0.000000</td>\n",
       "      <td>0.000000</td>\n",
       "      <td>0.000000</td>\n",
       "      <td>0.000000</td>\n",
       "      <td>0.000000</td>\n",
       "      <td>0.000000</td>\n",
       "      <td>0.000000</td>\n",
       "      <td>4.186271e+06</td>\n",
       "    </tr>\n",
       "    <tr>\n",
       "      <th>50%</th>\n",
       "      <td>11208.000000</td>\n",
       "      <td>40.717648</td>\n",
       "      <td>-73.919220</td>\n",
       "      <td>0.000000</td>\n",
       "      <td>0.000000</td>\n",
       "      <td>0.000000</td>\n",
       "      <td>0.000000</td>\n",
       "      <td>0.000000</td>\n",
       "      <td>0.000000</td>\n",
       "      <td>0.000000</td>\n",
       "      <td>0.000000</td>\n",
       "      <td>4.311422e+06</td>\n",
       "    </tr>\n",
       "    <tr>\n",
       "      <th>75%</th>\n",
       "      <td>11249.000000</td>\n",
       "      <td>40.780290</td>\n",
       "      <td>-73.863060</td>\n",
       "      <td>1.000000</td>\n",
       "      <td>0.000000</td>\n",
       "      <td>0.000000</td>\n",
       "      <td>0.000000</td>\n",
       "      <td>0.000000</td>\n",
       "      <td>0.000000</td>\n",
       "      <td>0.000000</td>\n",
       "      <td>0.000000</td>\n",
       "      <td>4.436465e+06</td>\n",
       "    </tr>\n",
       "    <tr>\n",
       "      <th>max</th>\n",
       "      <td>11697.000000</td>\n",
       "      <td>40.912884</td>\n",
       "      <td>0.000000</td>\n",
       "      <td>40.000000</td>\n",
       "      <td>4.000000</td>\n",
       "      <td>7.000000</td>\n",
       "      <td>2.000000</td>\n",
       "      <td>3.000000</td>\n",
       "      <td>1.000000</td>\n",
       "      <td>40.000000</td>\n",
       "      <td>4.000000</td>\n",
       "      <td>4.704339e+06</td>\n",
       "    </tr>\n",
       "  </tbody>\n",
       "</table>\n",
       "</div>"
      ],
      "text/plain": [
       "            ZIP CODE       LATITUDE      LONGITUDE  NUMBER OF PERSONS INJURED  \\\n",
       "count  325964.000000  458926.000000  458926.000000              499999.000000   \n",
       "mean    10892.806264      40.481492     -73.469970                   0.381771   \n",
       "std       528.224943       3.147564       5.711266                   0.744994   \n",
       "min     10000.000000       0.000000     -74.254845                   0.000000   \n",
       "25%     10457.000000      40.667114     -73.962906                   0.000000   \n",
       "50%     11208.000000      40.717648     -73.919220                   0.000000   \n",
       "75%     11249.000000      40.780290     -73.863060                   1.000000   \n",
       "max     11697.000000      40.912884       0.000000                  40.000000   \n",
       "\n",
       "       NUMBER OF PERSONS KILLED  NUMBER OF PEDESTRIANS INJURED  \\\n",
       "count             500000.000000                  500000.000000   \n",
       "mean                   0.001948                       0.060030   \n",
       "std                    0.046262                       0.249115   \n",
       "min                    0.000000                       0.000000   \n",
       "25%                    0.000000                       0.000000   \n",
       "50%                    0.000000                       0.000000   \n",
       "75%                    0.000000                       0.000000   \n",
       "max                    4.000000                       7.000000   \n",
       "\n",
       "       NUMBER OF PEDESTRIANS KILLED  NUMBER OF CYCLIST INJURED  \\\n",
       "count                 500000.000000              500000.000000   \n",
       "mean                       0.000858                   0.037618   \n",
       "std                        0.029483                   0.193554   \n",
       "min                        0.000000                   0.000000   \n",
       "25%                        0.000000                   0.000000   \n",
       "50%                        0.000000                   0.000000   \n",
       "75%                        0.000000                   0.000000   \n",
       "max                        2.000000                   3.000000   \n",
       "\n",
       "       NUMBER OF CYCLIST KILLED  NUMBER OF MOTORIST INJURED  \\\n",
       "count             500000.000000               500000.000000   \n",
       "mean                   0.000178                    0.276588   \n",
       "std                    0.013340                    0.710974   \n",
       "min                    0.000000                    0.000000   \n",
       "25%                    0.000000                    0.000000   \n",
       "50%                    0.000000                    0.000000   \n",
       "75%                    0.000000                    0.000000   \n",
       "max                    1.000000                   40.000000   \n",
       "\n",
       "       NUMBER OF MOTORIST KILLED  COLLISION_ID  \n",
       "count              500000.000000  5.000000e+05  \n",
       "mean                    0.000860  4.311369e+06  \n",
       "std                     0.032113  1.446522e+05  \n",
       "min                     0.000000  3.828540e+06  \n",
       "25%                     0.000000  4.186271e+06  \n",
       "50%                     0.000000  4.311422e+06  \n",
       "75%                     0.000000  4.436465e+06  \n",
       "max                     4.000000  4.704339e+06  "
      ]
     },
     "execution_count": 6,
     "metadata": {},
     "output_type": "execute_result"
    }
   ],
   "source": [
    "data.describe()"
   ]
  },
  {
   "cell_type": "code",
   "execution_count": 7,
   "metadata": {},
   "outputs": [
    {
     "data": {
      "text/plain": [
       "(500000, 29)"
      ]
     },
     "execution_count": 7,
     "metadata": {},
     "output_type": "execute_result"
    }
   ],
   "source": [
    "data.shape"
   ]
  },
  {
   "cell_type": "code",
   "execution_count": 8,
   "metadata": {},
   "outputs": [
    {
     "data": {
      "text/plain": [
       "Index(['CRASH DATE', 'CRASH TIME', 'BOROUGH', 'ZIP CODE', 'LATITUDE',\n",
       "       'LONGITUDE', 'LOCATION', 'ON STREET NAME', 'CROSS STREET NAME',\n",
       "       'OFF STREET NAME', 'NUMBER OF PERSONS INJURED',\n",
       "       'NUMBER OF PERSONS KILLED', 'NUMBER OF PEDESTRIANS INJURED',\n",
       "       'NUMBER OF PEDESTRIANS KILLED', 'NUMBER OF CYCLIST INJURED',\n",
       "       'NUMBER OF CYCLIST KILLED', 'NUMBER OF MOTORIST INJURED',\n",
       "       'NUMBER OF MOTORIST KILLED', 'CONTRIBUTING FACTOR VEHICLE 1',\n",
       "       'CONTRIBUTING FACTOR VEHICLE 2', 'CONTRIBUTING FACTOR VEHICLE 3',\n",
       "       'CONTRIBUTING FACTOR VEHICLE 4', 'CONTRIBUTING FACTOR VEHICLE 5',\n",
       "       'COLLISION_ID', 'VEHICLE TYPE CODE 1', 'VEHICLE TYPE CODE 2',\n",
       "       'VEHICLE TYPE CODE 3', 'VEHICLE TYPE CODE 4', 'VEHICLE TYPE CODE 5'],\n",
       "      dtype='object')"
      ]
     },
     "execution_count": 8,
     "metadata": {},
     "output_type": "execute_result"
    }
   ],
   "source": [
    "data.columns"
   ]
  },
  {
   "cell_type": "code",
   "execution_count": 9,
   "metadata": {},
   "outputs": [],
   "source": [
    "# Changing column names to the ones I want to use\n",
    "\n",
    "new_cols_dict = {\n",
    "  'CRASH DATE' : 'crash_date',\n",
    "  'CRASH TIME' : 'crash_time',\n",
    "  'BOROUGH' : 'borough',\n",
    "  'ZIP CODE' : 'zip_code',\n",
    "  'LATITUDE' : 'latitude',\n",
    "  'LONGITUDE' : 'longitude',\n",
    "  'LOCATION' : 'location',\n",
    "  'ON STREET NAME' : 'on_street_name',\n",
    "  'CROSS STREET NAME' : 'cross_street_name',\n",
    "  'OFF STREET NAME' : 'off_street_name',\n",
    "  'NUMBER OF PERSONS INJURED' : 'persons_injured',\n",
    "  'NUMBER OF PERSONS KILLED' : 'persons_killed',\n",
    "  'NUMBER OF PEDESTRIANS INJURED' : 'pedestrians_injured',\n",
    "  'NUMBER OF PEDESTRIANS KILLED' : 'pedestrians_killed',\n",
    "  'NUMBER OF CYCLIST INJURED' : 'cyclist_injured',\n",
    "  'NUMBER OF CYCLIST KILLED' : 'cyclist_killed',\n",
    "  'NUMBER OF MOTORIST INJURED' : 'motorist_injured',\n",
    "  'NUMBER OF MOTORIST KILLED' : 'motorist_killed',\n",
    "  'CONTRIBUTING FACTOR VEHICLE 1' : 'contributing_factor_vehicle_1',\n",
    "  'CONTRIBUTING FACTOR VEHICLE 2' : 'contributing_factor_vehicle_2',\n",
    "  'CONTRIBUTING FACTOR VEHICLE 3' : 'contributing_factor_vehicle_3',\n",
    "  'CONTRIBUTING FACTOR VEHICLE 4' : 'contributing_factor_vehicle_4',\n",
    "  'CONTRIBUTING FACTOR VEHICLE 5' : 'contributing_factor_vehicle_5',\n",
    "  'COLLISION_ID' : 'collision_id',\n",
    "  'VEHICLE TYPE CODE 1' : 'vehicle_type_code_1',\n",
    "  'VEHICLE TYPE CODE 2' : 'vehicle_type_code_2',\n",
    "  'VEHICLE TYPE CODE 3' : 'vehicle_type_code_3',\n",
    "  'VEHICLE TYPE CODE 4' : 'vehicle_type_code_4',\n",
    "  'VEHICLE TYPE CODE 5' : 'vehicle_type_code_5'\n",
    "}\n",
    "\n",
    "data.rename(new_cols_dict, axis=1, inplace=True)\n"
   ]
  },
  {
   "cell_type": "code",
   "execution_count": 10,
   "metadata": {},
   "outputs": [
    {
     "data": {
      "text/plain": [
       "Index(['crash_date', 'crash_time', 'borough', 'zip_code', 'latitude',\n",
       "       'longitude', 'location', 'on_street_name', 'cross_street_name',\n",
       "       'off_street_name', 'persons_injured', 'persons_killed',\n",
       "       'pedestrians_injured', 'pedestrians_killed', 'cyclist_injured',\n",
       "       'cyclist_killed', 'motorist_injured', 'motorist_killed',\n",
       "       'contributing_factor_vehicle_1', 'contributing_factor_vehicle_2',\n",
       "       'contributing_factor_vehicle_3', 'contributing_factor_vehicle_4',\n",
       "       'contributing_factor_vehicle_5', 'collision_id', 'vehicle_type_code_1',\n",
       "       'vehicle_type_code_2', 'vehicle_type_code_3', 'vehicle_type_code_4',\n",
       "       'vehicle_type_code_5'],\n",
       "      dtype='object')"
      ]
     },
     "execution_count": 10,
     "metadata": {},
     "output_type": "execute_result"
    }
   ],
   "source": [
    "data.columns"
   ]
  },
  {
   "cell_type": "code",
   "execution_count": 11,
   "metadata": {},
   "outputs": [],
   "source": [
    "# dropping unwanted columns for data exploration\n",
    "\n",
    "columns_to_drop = [\n",
    "  'on_street_name',\n",
    "  'off_street_name',\n",
    "  'cross_street_name', \n",
    "  'contributing_factor_vehicle_2',\n",
    "  'contributing_factor_vehicle_3', \n",
    "  'contributing_factor_vehicle_4', \n",
    "  'contributing_factor_vehicle_5', \n",
    "  'vehicle_type_code_3', \n",
    "  'vehicle_type_code_4', \n",
    "  'vehicle_type_code_5', \n",
    "  'location'\n",
    "  ]\n",
    "\n",
    "data.drop(columns=columns_to_drop, inplace=True)"
   ]
  },
  {
   "cell_type": "code",
   "execution_count": 12,
   "metadata": {},
   "outputs": [
    {
     "name": "stdout",
     "output_type": "stream",
     "text": [
      "<class 'pandas.core.frame.DataFrame'>\n",
      "RangeIndex: 500000 entries, 0 to 499999\n",
      "Data columns (total 18 columns):\n",
      " #   Column                         Non-Null Count   Dtype  \n",
      "---  ------                         --------------   -----  \n",
      " 0   crash_date                     500000 non-null  object \n",
      " 1   crash_time                     500000 non-null  object \n",
      " 2   borough                        326039 non-null  object \n",
      " 3   zip_code                       325964 non-null  float64\n",
      " 4   latitude                       458926 non-null  float64\n",
      " 5   longitude                      458926 non-null  float64\n",
      " 6   persons_injured                499999 non-null  float64\n",
      " 7   persons_killed                 500000 non-null  int64  \n",
      " 8   pedestrians_injured            500000 non-null  int64  \n",
      " 9   pedestrians_killed             500000 non-null  int64  \n",
      " 10  cyclist_injured                500000 non-null  int64  \n",
      " 11  cyclist_killed                 500000 non-null  int64  \n",
      " 12  motorist_injured               500000 non-null  int64  \n",
      " 13  motorist_killed                500000 non-null  int64  \n",
      " 14  contributing_factor_vehicle_1  497864 non-null  object \n",
      " 15  collision_id                   500000 non-null  int64  \n",
      " 16  vehicle_type_code_1            495409 non-null  object \n",
      " 17  vehicle_type_code_2            362247 non-null  object \n",
      "dtypes: float64(4), int64(8), object(6)\n",
      "memory usage: 68.7+ MB\n"
     ]
    }
   ],
   "source": [
    "data.info()"
   ]
  },
  {
   "cell_type": "code",
   "execution_count": 13,
   "metadata": {},
   "outputs": [],
   "source": [
    "# Changing necessary column objects to numeric/date values\n",
    "\n",
    "data['crash_date'] = pd.to_datetime(data['crash_date'])\n",
    "data['zip_code'] = pd.to_numeric(data['zip_code'], errors='coerce')"
   ]
  },
  {
   "cell_type": "code",
   "execution_count": 14,
   "metadata": {},
   "outputs": [
    {
     "name": "stdout",
     "output_type": "stream",
     "text": [
      "<class 'pandas.core.frame.DataFrame'>\n",
      "RangeIndex: 500000 entries, 0 to 499999\n",
      "Data columns (total 18 columns):\n",
      " #   Column                         Non-Null Count   Dtype         \n",
      "---  ------                         --------------   -----         \n",
      " 0   crash_date                     500000 non-null  datetime64[ns]\n",
      " 1   crash_time                     500000 non-null  object        \n",
      " 2   borough                        326039 non-null  object        \n",
      " 3   zip_code                       325964 non-null  float64       \n",
      " 4   latitude                       458926 non-null  float64       \n",
      " 5   longitude                      458926 non-null  float64       \n",
      " 6   persons_injured                499999 non-null  float64       \n",
      " 7   persons_killed                 500000 non-null  int64         \n",
      " 8   pedestrians_injured            500000 non-null  int64         \n",
      " 9   pedestrians_killed             500000 non-null  int64         \n",
      " 10  cyclist_injured                500000 non-null  int64         \n",
      " 11  cyclist_killed                 500000 non-null  int64         \n",
      " 12  motorist_injured               500000 non-null  int64         \n",
      " 13  motorist_killed                500000 non-null  int64         \n",
      " 14  contributing_factor_vehicle_1  497864 non-null  object        \n",
      " 15  collision_id                   500000 non-null  int64         \n",
      " 16  vehicle_type_code_1            495409 non-null  object        \n",
      " 17  vehicle_type_code_2            362247 non-null  object        \n",
      "dtypes: datetime64[ns](1), float64(4), int64(8), object(5)\n",
      "memory usage: 68.7+ MB\n"
     ]
    }
   ],
   "source": [
    "data.info()"
   ]
  },
  {
   "cell_type": "code",
   "execution_count": 15,
   "metadata": {},
   "outputs": [
    {
     "data": {
      "text/html": [
       "<div>\n",
       "<style scoped>\n",
       "    .dataframe tbody tr th:only-of-type {\n",
       "        vertical-align: middle;\n",
       "    }\n",
       "\n",
       "    .dataframe tbody tr th {\n",
       "        vertical-align: top;\n",
       "    }\n",
       "\n",
       "    .dataframe thead th {\n",
       "        text-align: right;\n",
       "    }\n",
       "</style>\n",
       "<table border=\"1\" class=\"dataframe\">\n",
       "  <thead>\n",
       "    <tr style=\"text-align: right;\">\n",
       "      <th></th>\n",
       "      <th>crash_date</th>\n",
       "      <th>crash_time</th>\n",
       "      <th>borough</th>\n",
       "      <th>zip_code</th>\n",
       "      <th>latitude</th>\n",
       "      <th>longitude</th>\n",
       "      <th>persons_injured</th>\n",
       "      <th>persons_killed</th>\n",
       "      <th>pedestrians_injured</th>\n",
       "      <th>pedestrians_killed</th>\n",
       "      <th>cyclist_injured</th>\n",
       "      <th>cyclist_killed</th>\n",
       "      <th>motorist_injured</th>\n",
       "      <th>motorist_killed</th>\n",
       "      <th>contributing_factor_vehicle_1</th>\n",
       "      <th>collision_id</th>\n",
       "      <th>vehicle_type_code_1</th>\n",
       "      <th>vehicle_type_code_2</th>\n",
       "    </tr>\n",
       "  </thead>\n",
       "  <tbody>\n",
       "    <tr>\n",
       "      <th>0</th>\n",
       "      <td>2024-02-20</td>\n",
       "      <td>18:25</td>\n",
       "      <td>MANHATTAN</td>\n",
       "      <td>10019.0</td>\n",
       "      <td>40.765250</td>\n",
       "      <td>-73.995094</td>\n",
       "      <td>1.0</td>\n",
       "      <td>0</td>\n",
       "      <td>1</td>\n",
       "      <td>0</td>\n",
       "      <td>0</td>\n",
       "      <td>0</td>\n",
       "      <td>0</td>\n",
       "      <td>0</td>\n",
       "      <td>NaN</td>\n",
       "      <td>4704029</td>\n",
       "      <td>Sedan</td>\n",
       "      <td>NaN</td>\n",
       "    </tr>\n",
       "    <tr>\n",
       "      <th>1</th>\n",
       "      <td>2024-02-20</td>\n",
       "      <td>13:15</td>\n",
       "      <td>NaN</td>\n",
       "      <td>NaN</td>\n",
       "      <td>40.679787</td>\n",
       "      <td>-73.938440</td>\n",
       "      <td>1.0</td>\n",
       "      <td>0</td>\n",
       "      <td>0</td>\n",
       "      <td>0</td>\n",
       "      <td>0</td>\n",
       "      <td>0</td>\n",
       "      <td>1</td>\n",
       "      <td>0</td>\n",
       "      <td>Passing Too Closely</td>\n",
       "      <td>4704115</td>\n",
       "      <td>Sedan</td>\n",
       "      <td>NaN</td>\n",
       "    </tr>\n",
       "    <tr>\n",
       "      <th>2</th>\n",
       "      <td>2024-02-20</td>\n",
       "      <td>9:15</td>\n",
       "      <td>QUEENS</td>\n",
       "      <td>11106.0</td>\n",
       "      <td>40.759422</td>\n",
       "      <td>-73.927470</td>\n",
       "      <td>0.0</td>\n",
       "      <td>0</td>\n",
       "      <td>0</td>\n",
       "      <td>0</td>\n",
       "      <td>0</td>\n",
       "      <td>0</td>\n",
       "      <td>0</td>\n",
       "      <td>0</td>\n",
       "      <td>Backing Unsafely</td>\n",
       "      <td>4704050</td>\n",
       "      <td>Pick-up Truck</td>\n",
       "      <td>NaN</td>\n",
       "    </tr>\n",
       "    <tr>\n",
       "      <th>3</th>\n",
       "      <td>2024-02-20</td>\n",
       "      <td>19:00</td>\n",
       "      <td>BRONX</td>\n",
       "      <td>10463.0</td>\n",
       "      <td>40.873917</td>\n",
       "      <td>-73.909260</td>\n",
       "      <td>0.0</td>\n",
       "      <td>0</td>\n",
       "      <td>0</td>\n",
       "      <td>0</td>\n",
       "      <td>0</td>\n",
       "      <td>0</td>\n",
       "      <td>0</td>\n",
       "      <td>0</td>\n",
       "      <td>Unspecified</td>\n",
       "      <td>4704256</td>\n",
       "      <td>Sedan</td>\n",
       "      <td>NaN</td>\n",
       "    </tr>\n",
       "    <tr>\n",
       "      <th>4</th>\n",
       "      <td>2024-02-20</td>\n",
       "      <td>19:30</td>\n",
       "      <td>NaN</td>\n",
       "      <td>NaN</td>\n",
       "      <td>NaN</td>\n",
       "      <td>NaN</td>\n",
       "      <td>0.0</td>\n",
       "      <td>0</td>\n",
       "      <td>0</td>\n",
       "      <td>0</td>\n",
       "      <td>0</td>\n",
       "      <td>0</td>\n",
       "      <td>0</td>\n",
       "      <td>0</td>\n",
       "      <td>Driver Inattention/Distraction</td>\n",
       "      <td>4704085</td>\n",
       "      <td>Box Truck</td>\n",
       "      <td>NaN</td>\n",
       "    </tr>\n",
       "  </tbody>\n",
       "</table>\n",
       "</div>"
      ],
      "text/plain": [
       "  crash_date crash_time    borough  zip_code   latitude  longitude  \\\n",
       "0 2024-02-20      18:25  MANHATTAN   10019.0  40.765250 -73.995094   \n",
       "1 2024-02-20      13:15        NaN       NaN  40.679787 -73.938440   \n",
       "2 2024-02-20       9:15     QUEENS   11106.0  40.759422 -73.927470   \n",
       "3 2024-02-20      19:00      BRONX   10463.0  40.873917 -73.909260   \n",
       "4 2024-02-20      19:30        NaN       NaN        NaN        NaN   \n",
       "\n",
       "   persons_injured  persons_killed  pedestrians_injured  pedestrians_killed  \\\n",
       "0              1.0               0                    1                   0   \n",
       "1              1.0               0                    0                   0   \n",
       "2              0.0               0                    0                   0   \n",
       "3              0.0               0                    0                   0   \n",
       "4              0.0               0                    0                   0   \n",
       "\n",
       "   cyclist_injured  cyclist_killed  motorist_injured  motorist_killed  \\\n",
       "0                0               0                 0                0   \n",
       "1                0               0                 1                0   \n",
       "2                0               0                 0                0   \n",
       "3                0               0                 0                0   \n",
       "4                0               0                 0                0   \n",
       "\n",
       "    contributing_factor_vehicle_1  collision_id vehicle_type_code_1  \\\n",
       "0                             NaN       4704029               Sedan   \n",
       "1             Passing Too Closely       4704115               Sedan   \n",
       "2                Backing Unsafely       4704050       Pick-up Truck   \n",
       "3                     Unspecified       4704256               Sedan   \n",
       "4  Driver Inattention/Distraction       4704085           Box Truck   \n",
       "\n",
       "  vehicle_type_code_2  \n",
       "0                 NaN  \n",
       "1                 NaN  \n",
       "2                 NaN  \n",
       "3                 NaN  \n",
       "4                 NaN  "
      ]
     },
     "execution_count": 15,
     "metadata": {},
     "output_type": "execute_result"
    }
   ],
   "source": [
    "data.head()"
   ]
  },
  {
   "cell_type": "code",
   "execution_count": 16,
   "metadata": {},
   "outputs": [
    {
     "data": {
      "text/plain": [
       "crash_date                            0\n",
       "crash_time                            0\n",
       "borough                          173961\n",
       "zip_code                         174036\n",
       "latitude                          41074\n",
       "longitude                         41074\n",
       "persons_injured                       1\n",
       "persons_killed                        0\n",
       "pedestrians_injured                   0\n",
       "pedestrians_killed                    0\n",
       "cyclist_injured                       0\n",
       "cyclist_killed                        0\n",
       "motorist_injured                      0\n",
       "motorist_killed                       0\n",
       "contributing_factor_vehicle_1      2136\n",
       "collision_id                          0\n",
       "vehicle_type_code_1                4591\n",
       "vehicle_type_code_2              137753\n",
       "dtype: int64"
      ]
     },
     "execution_count": 16,
     "metadata": {},
     "output_type": "execute_result"
    }
   ],
   "source": [
    "data.isnull().sum()"
   ]
  },
  {
   "cell_type": "markdown",
   "metadata": {},
   "source": [
    "What is the average percentage of a person getting injured in a car accident?"
   ]
  },
  {
   "cell_type": "code",
   "execution_count": 17,
   "metadata": {},
   "outputs": [
    {
     "data": {
      "text/plain": [
       "Index(['crash_date', 'crash_time', 'borough', 'zip_code', 'latitude',\n",
       "       'longitude', 'persons_injured', 'persons_killed', 'pedestrians_injured',\n",
       "       'pedestrians_killed', 'cyclist_injured', 'cyclist_killed',\n",
       "       'motorist_injured', 'motorist_killed', 'contributing_factor_vehicle_1',\n",
       "       'collision_id', 'vehicle_type_code_1', 'vehicle_type_code_2'],\n",
       "      dtype='object')"
      ]
     },
     "execution_count": 17,
     "metadata": {},
     "output_type": "execute_result"
    }
   ],
   "source": [
    "data.columns"
   ]
  },
  {
   "cell_type": "code",
   "execution_count": 18,
   "metadata": {},
   "outputs": [
    {
     "name": "stdout",
     "output_type": "stream",
     "text": [
      "[38.17707635  6.00301201  3.76180752 27.65885532]\n"
     ]
    }
   ],
   "source": [
    "total_persons_injured = data['persons_injured'].sum()\n",
    "total_pedestrians_injured = data['pedestrians_injured'].sum()\n",
    "total_cyclist_injured = data['cyclist_injured'].sum()\n",
    "total_motorist_injured = data['motorist_injured'].sum()\n",
    "total_persons = data['persons_injured'].count()\n",
    "\n",
    "injured_percentages = np.array([\n",
    "    (total_persons_injured / total_persons) * 100,   # average percentage of persons' injury\n",
    "    (total_pedestrians_injured / total_persons) * 100,   # average percentage of pedestrians' injury\n",
    "    (total_cyclist_injured / total_persons) * 100,   # average percentage of cyclists' injury\n",
    "    (total_motorist_injured / total_persons) * 100    # average percentage of motorists' injury\n",
    "])\n",
    "\n",
    "print(injured_percentages)\n",
    "# [persons, pedestrians, cyclists, motorists]\n"
   ]
  },
  {
   "cell_type": "markdown",
   "metadata": {},
   "source": [
    "What is the average percentage of a person getting killed in a car accident? "
   ]
  },
  {
   "cell_type": "code",
   "execution_count": 19,
   "metadata": {},
   "outputs": [
    {
     "name": "stdout",
     "output_type": "stream",
     "text": [
      "[0.1948 0.0858 0.0178 0.086 ]\n"
     ]
    }
   ],
   "source": [
    "total_persons_killed = data['persons_killed'].sum()\n",
    "total_pedestrians_killed = data['pedestrians_killed'].sum()\n",
    "total_cyclist_killed = data['cyclist_killed'].sum()\n",
    "total_motorist_killed = data['motorist_killed'].sum()\n",
    "total_persons = data['persons_killed'].count()\n",
    "\n",
    "death_percentages = np.array([\n",
    "    (total_persons_killed / total_persons) * 100,   # average percentage of persons killed\n",
    "    (total_pedestrians_killed / total_persons) * 100,   # average percentage of pedestrians killed\n",
    "    (total_cyclist_killed / total_persons) * 100,   # average percentage of cyclists killed\n",
    "    (total_motorist_killed / total_persons) * 100    # average percentage of motorists killed\n",
    "])\n",
    "\n",
    "print(death_percentages)\n",
    "# [persons, pedestrians, cyclists, motorists]"
   ]
  },
  {
   "cell_type": "markdown",
   "metadata": {},
   "source": [
    "Total injured/death percentages"
   ]
  },
  {
   "cell_type": "code",
   "execution_count": 20,
   "metadata": {},
   "outputs": [
    {
     "name": "stdout",
     "output_type": "stream",
     "text": [
      "Total Injured Percentage: 75.6006\n",
      "Total Deaths Percentage: 0.3844\n"
     ]
    }
   ],
   "source": [
    "total_injured = total_persons_injured + total_pedestrians_injured + total_cyclist_injured + total_motorist_injured\n",
    "total_injured_percentage = (total_injured / total_persons) * 100\n",
    "\n",
    "print(\"Total Injured Percentage:\", total_injured_percentage)\n",
    "\n",
    "total_deaths = total_persons_killed + total_pedestrians_killed + total_cyclist_killed + total_motorist_killed\n",
    "\n",
    "total_deaths_percentage = (total_deaths / total_persons) * 100\n",
    "\n",
    "print(\"Total Deaths Percentage:\", total_deaths_percentage)\n",
    "\n",
    "# injured/deaths are mutually exclusive"
   ]
  },
  {
   "cell_type": "markdown",
   "metadata": {},
   "source": [
    "Top 10 Factors for Car Accidents"
   ]
  },
  {
   "cell_type": "code",
   "execution_count": 21,
   "metadata": {},
   "outputs": [
    {
     "data": {
      "text/plain": [
       "Index(['crash_date', 'crash_time', 'borough', 'zip_code', 'latitude',\n",
       "       'longitude', 'persons_injured', 'persons_killed', 'pedestrians_injured',\n",
       "       'pedestrians_killed', 'cyclist_injured', 'cyclist_killed',\n",
       "       'motorist_injured', 'motorist_killed', 'contributing_factor_vehicle_1',\n",
       "       'collision_id', 'vehicle_type_code_1', 'vehicle_type_code_2'],\n",
       "      dtype='object')"
      ]
     },
     "execution_count": 21,
     "metadata": {},
     "output_type": "execute_result"
    }
   ],
   "source": [
    "data.columns"
   ]
  },
  {
   "cell_type": "code",
   "execution_count": 22,
   "metadata": {},
   "outputs": [
    {
     "data": {
      "text/plain": [
       "contributing_factor_vehicle_1\n",
       "Driver Inattention/Distraction                           126358\n",
       "Unspecified                                              122093\n",
       "Following Too Closely                                     38200\n",
       "Failure to Yield Right-of-Way                             33885\n",
       "Passing or Lane Usage Improper                            21333\n",
       "Passing Too Closely                                       19430\n",
       "Backing Unsafely                                          19003\n",
       "Other Vehicular                                           14294\n",
       "Unsafe Lane Changing                                      12900\n",
       "Unsafe Speed                                              12406\n",
       "Traffic Control Disregarded                               10895\n",
       "Turning Improperly                                        10580\n",
       "Driver Inexperience                                        8545\n",
       "Reaction to Uninvolved Vehicle                             7472\n",
       "Alcohol Involvement                                        6596\n",
       "View Obstructed/Limited                                    4250\n",
       "Pavement Slippery                                          4203\n",
       "Pedestrian/Bicyclist/Other Pedestrian Error/Confusion      3673\n",
       "Aggressive Driving/Road Rage                               3152\n",
       "Oversized Vehicle                                          2607\n",
       "Brakes Defective                                           1982\n",
       "Fell Asleep                                                1796\n",
       "Passenger Distraction                                      1401\n",
       "Outside Car Distraction                                    1024\n",
       "Obstruction/Debris                                         1018\n",
       "Steering Failure                                            997\n",
       "Glare                                                       853\n",
       "Tire Failure/Inadequate                                     769\n",
       "Lost Consciousness                                          754\n",
       "Illnes                                                      693\n",
       "Pavement Defective                                          583\n",
       "Failure to Keep Right                                       574\n",
       "Fatigued/Drowsy                                             553\n",
       "Animals Action                                              470\n",
       "Driverless/Runaway Vehicle                                  458\n",
       "Drugs (illegal)                                             386\n",
       "Accelerator Defective                                       310\n",
       "Lane Marking Improper/Inadequate                            214\n",
       "Traffic Control Device Improper/Non-Working                 205\n",
       "Cell Phone (hand-Held)                                      197\n",
       "Physical Disability                                         189\n",
       "Tinted Windows                                               75\n",
       "Tow Hitch Defective                                          65\n",
       "Using On Board Navigation Device                             56\n",
       "Prescription Medication                                      52\n",
       "Vehicle Vandalism                                            51\n",
       "Other Electronic Device                                      48\n",
       "Other Lighting Defects                                       48\n",
       "Eating or Drinking                                           48\n",
       "Headlights Defective                                         42\n",
       "Cell Phone (hands-free)                                      23\n",
       "Shoulders Defective/Improper                                 21\n",
       "Texting                                                      15\n",
       "Listening/Using Headphones                                   10\n",
       "Windshield Inadequate                                         9\n",
       "Name: count, dtype: int64"
      ]
     },
     "execution_count": 22,
     "metadata": {},
     "output_type": "execute_result"
    }
   ],
   "source": [
    "data['contributing_factor_vehicle_1'].value_counts()"
   ]
  },
  {
   "cell_type": "code",
   "execution_count": 23,
   "metadata": {},
   "outputs": [
    {
     "data": {
      "image/png": "[encoded data removed]",
      "text/plain": [
       "<Figure size 1200x700 with 1 Axes>"
      ]
     },
     "metadata": {},
     "output_type": "display_data"
    }
   ],
   "source": [
    "top_factors = data['contributing_factor_vehicle_1'].value_counts().head(10).sort_values()\n",
    "\n",
    "plt.figure(figsize=(12, 7))\n",
    "\n",
    "plt.barh(top_factors.index, top_factors.values, color='lightblue')\n",
    "\n",
    "for index, value in enumerate(top_factors.values):\n",
    "    plt.text(value, index, str(value))\n",
    "\n",
    "plt.title('Car Accident Factors')\n",
    "plt.xlabel('Number of Car Accidents')\n",
    "plt.ylabel('Factors')\n",
    "\n",
    "\n",
    "plt.show()"
   ]
  },
  {
   "cell_type": "markdown",
   "metadata": {},
   "source": [
    "Top 10 Vehicles involved in Car Accidents"
   ]
  },
  {
   "cell_type": "code",
   "execution_count": 24,
   "metadata": {},
   "outputs": [
    {
     "data": {
      "text/plain": [
       "Index(['crash_date', 'crash_time', 'borough', 'zip_code', 'latitude',\n",
       "       'longitude', 'persons_injured', 'persons_killed', 'pedestrians_injured',\n",
       "       'pedestrians_killed', 'cyclist_injured', 'cyclist_killed',\n",
       "       'motorist_injured', 'motorist_killed', 'contributing_factor_vehicle_1',\n",
       "       'collision_id', 'vehicle_type_code_1', 'vehicle_type_code_2'],\n",
       "      dtype='object')"
      ]
     },
     "execution_count": 24,
     "metadata": {},
     "output_type": "execute_result"
    }
   ],
   "source": [
    "data.columns"
   ]
  },
  {
   "cell_type": "code",
   "execution_count": 25,
   "metadata": {},
   "outputs": [
    {
     "data": {
      "text/plain": [
       "vehicle_type_code_1\n",
       "Sedan                                  230580\n",
       "Station Wagon/Sport Utility Vehicle    181783\n",
       "Taxi                                    17922\n",
       "Pick-up Truck                           12530\n",
       "Box Truck                                9276\n",
       "                                        ...  \n",
       "fdny ambul                                  1\n",
       "ambulette                                   1\n",
       "FRHT TRAIL                                  1\n",
       "E-SKATEBOA                                  1\n",
       "rv                                          1\n",
       "Name: count, Length: 912, dtype: int64"
      ]
     },
     "execution_count": 25,
     "metadata": {},
     "output_type": "execute_result"
    }
   ],
   "source": [
    "data['vehicle_type_code_1'].value_counts()"
   ]
  },
  {
   "cell_type": "code",
   "execution_count": 26,
   "metadata": {},
   "outputs": [
    {
     "data": {
      "image/png": "[encoded data removed]",
      "text/plain": [
       "<Figure size 1200x700 with 1 Axes>"
      ]
     },
     "metadata": {},
     "output_type": "display_data"
    }
   ],
   "source": [
    "vehicles = data['vehicle_type_code_1'].value_counts().head(10).sort_values()\n",
    "\n",
    "plt.figure(figsize=(12, 7))\n",
    "\n",
    "plt.barh(vehicles.index, vehicles.values, color='darkblue')\n",
    "\n",
    "for index, value in enumerate(vehicles.values):\n",
    "    plt.text(value, index, str(value))\n",
    "\n",
    "plt.title('Most Common Vehicles in Car Accidents')\n",
    "plt.xlabel('Number of Car Accidents')\n",
    "plt.ylabel('Vehicles')\n",
    "\n",
    "\n",
    "plt.show()"
   ]
  },
  {
   "cell_type": "markdown",
   "metadata": {},
   "source": [
    "What times do car accidents most frequently occur?"
   ]
  },
  {
   "cell_type": "code",
   "execution_count": 27,
   "metadata": {},
   "outputs": [],
   "source": [
    "data['crash_time'] = pd.to_datetime(data['crash_time'], format='%H:%M', errors='coerce')\n",
    "\n",
    "# Create bins for time categories\n",
    "bins = [-1, 5, 12, 17, 21, 24]\n",
    "labels = ['late night (12am-5am)', 'morning (5am-12pm)', 'afternoon (12pm-5pm)', 'evening (5pm-9pm)', 'night (9pm-12am)']\n",
    "\n",
    "data['crash_time_category'] = pd.cut(data['crash_time'].dt.hour, bins=bins, labels=labels, include_lowest=True)\n",
    "\n",
    "# Drop unused columns\n",
    "data = data.drop(['crash_time'], axis=1)\n",
    "\n",
    "# Revert 'crash_time' back to an object\n",
    "data['crash_time'] = data['crash_time_category'].astype(str)"
   ]
  },
  {
   "cell_type": "code",
   "execution_count": 28,
   "metadata": {},
   "outputs": [
    {
     "data": {
      "text/html": [
       "<div>\n",
       "<style scoped>\n",
       "    .dataframe tbody tr th:only-of-type {\n",
       "        vertical-align: middle;\n",
       "    }\n",
       "\n",
       "    .dataframe tbody tr th {\n",
       "        vertical-align: top;\n",
       "    }\n",
       "\n",
       "    .dataframe thead th {\n",
       "        text-align: right;\n",
       "    }\n",
       "</style>\n",
       "<table border=\"1\" class=\"dataframe\">\n",
       "  <thead>\n",
       "    <tr style=\"text-align: right;\">\n",
       "      <th></th>\n",
       "      <th>crash_date</th>\n",
       "      <th>borough</th>\n",
       "      <th>zip_code</th>\n",
       "      <th>latitude</th>\n",
       "      <th>longitude</th>\n",
       "      <th>persons_injured</th>\n",
       "      <th>persons_killed</th>\n",
       "      <th>pedestrians_injured</th>\n",
       "      <th>pedestrians_killed</th>\n",
       "      <th>cyclist_injured</th>\n",
       "      <th>cyclist_killed</th>\n",
       "      <th>motorist_injured</th>\n",
       "      <th>motorist_killed</th>\n",
       "      <th>contributing_factor_vehicle_1</th>\n",
       "      <th>collision_id</th>\n",
       "      <th>vehicle_type_code_1</th>\n",
       "      <th>vehicle_type_code_2</th>\n",
       "      <th>crash_time_category</th>\n",
       "      <th>crash_time</th>\n",
       "    </tr>\n",
       "  </thead>\n",
       "  <tbody>\n",
       "    <tr>\n",
       "      <th>0</th>\n",
       "      <td>2024-02-20</td>\n",
       "      <td>MANHATTAN</td>\n",
       "      <td>10019.0</td>\n",
       "      <td>40.765250</td>\n",
       "      <td>-73.995094</td>\n",
       "      <td>1.0</td>\n",
       "      <td>0</td>\n",
       "      <td>1</td>\n",
       "      <td>0</td>\n",
       "      <td>0</td>\n",
       "      <td>0</td>\n",
       "      <td>0</td>\n",
       "      <td>0</td>\n",
       "      <td>NaN</td>\n",
       "      <td>4704029</td>\n",
       "      <td>Sedan</td>\n",
       "      <td>NaN</td>\n",
       "      <td>evening (5pm-9pm)</td>\n",
       "      <td>evening (5pm-9pm)</td>\n",
       "    </tr>\n",
       "    <tr>\n",
       "      <th>1</th>\n",
       "      <td>2024-02-20</td>\n",
       "      <td>NaN</td>\n",
       "      <td>NaN</td>\n",
       "      <td>40.679787</td>\n",
       "      <td>-73.938440</td>\n",
       "      <td>1.0</td>\n",
       "      <td>0</td>\n",
       "      <td>0</td>\n",
       "      <td>0</td>\n",
       "      <td>0</td>\n",
       "      <td>0</td>\n",
       "      <td>1</td>\n",
       "      <td>0</td>\n",
       "      <td>Passing Too Closely</td>\n",
       "      <td>4704115</td>\n",
       "      <td>Sedan</td>\n",
       "      <td>NaN</td>\n",
       "      <td>afternoon (12pm-5pm)</td>\n",
       "      <td>afternoon (12pm-5pm)</td>\n",
       "    </tr>\n",
       "    <tr>\n",
       "      <th>2</th>\n",
       "      <td>2024-02-20</td>\n",
       "      <td>QUEENS</td>\n",
       "      <td>11106.0</td>\n",
       "      <td>40.759422</td>\n",
       "      <td>-73.927470</td>\n",
       "      <td>0.0</td>\n",
       "      <td>0</td>\n",
       "      <td>0</td>\n",
       "      <td>0</td>\n",
       "      <td>0</td>\n",
       "      <td>0</td>\n",
       "      <td>0</td>\n",
       "      <td>0</td>\n",
       "      <td>Backing Unsafely</td>\n",
       "      <td>4704050</td>\n",
       "      <td>Pick-up Truck</td>\n",
       "      <td>NaN</td>\n",
       "      <td>morning (5am-12pm)</td>\n",
       "      <td>morning (5am-12pm)</td>\n",
       "    </tr>\n",
       "    <tr>\n",
       "      <th>3</th>\n",
       "      <td>2024-02-20</td>\n",
       "      <td>BRONX</td>\n",
       "      <td>10463.0</td>\n",
       "      <td>40.873917</td>\n",
       "      <td>-73.909260</td>\n",
       "      <td>0.0</td>\n",
       "      <td>0</td>\n",
       "      <td>0</td>\n",
       "      <td>0</td>\n",
       "      <td>0</td>\n",
       "      <td>0</td>\n",
       "      <td>0</td>\n",
       "      <td>0</td>\n",
       "      <td>Unspecified</td>\n",
       "      <td>4704256</td>\n",
       "      <td>Sedan</td>\n",
       "      <td>NaN</td>\n",
       "      <td>evening (5pm-9pm)</td>\n",
       "      <td>evening (5pm-9pm)</td>\n",
       "    </tr>\n",
       "    <tr>\n",
       "      <th>4</th>\n",
       "      <td>2024-02-20</td>\n",
       "      <td>NaN</td>\n",
       "      <td>NaN</td>\n",
       "      <td>NaN</td>\n",
       "      <td>NaN</td>\n",
       "      <td>0.0</td>\n",
       "      <td>0</td>\n",
       "      <td>0</td>\n",
       "      <td>0</td>\n",
       "      <td>0</td>\n",
       "      <td>0</td>\n",
       "      <td>0</td>\n",
       "      <td>0</td>\n",
       "      <td>Driver Inattention/Distraction</td>\n",
       "      <td>4704085</td>\n",
       "      <td>Box Truck</td>\n",
       "      <td>NaN</td>\n",
       "      <td>evening (5pm-9pm)</td>\n",
       "      <td>evening (5pm-9pm)</td>\n",
       "    </tr>\n",
       "  </tbody>\n",
       "</table>\n",
       "</div>"
      ],
      "text/plain": [
       "  crash_date    borough  zip_code   latitude  longitude  persons_injured  \\\n",
       "0 2024-02-20  MANHATTAN   10019.0  40.765250 -73.995094              1.0   \n",
       "1 2024-02-20        NaN       NaN  40.679787 -73.938440              1.0   \n",
       "2 2024-02-20     QUEENS   11106.0  40.759422 -73.927470              0.0   \n",
       "3 2024-02-20      BRONX   10463.0  40.873917 -73.909260              0.0   \n",
       "4 2024-02-20        NaN       NaN        NaN        NaN              0.0   \n",
       "\n",
       "   persons_killed  pedestrians_injured  pedestrians_killed  cyclist_injured  \\\n",
       "0               0                    1                   0                0   \n",
       "1               0                    0                   0                0   \n",
       "2               0                    0                   0                0   \n",
       "3               0                    0                   0                0   \n",
       "4               0                    0                   0                0   \n",
       "\n",
       "   cyclist_killed  motorist_injured  motorist_killed  \\\n",
       "0               0                 0                0   \n",
       "1               0                 1                0   \n",
       "2               0                 0                0   \n",
       "3               0                 0                0   \n",
       "4               0                 0                0   \n",
       "\n",
       "    contributing_factor_vehicle_1  collision_id vehicle_type_code_1  \\\n",
       "0                             NaN       4704029               Sedan   \n",
       "1             Passing Too Closely       4704115               Sedan   \n",
       "2                Backing Unsafely       4704050       Pick-up Truck   \n",
       "3                     Unspecified       4704256               Sedan   \n",
       "4  Driver Inattention/Distraction       4704085           Box Truck   \n",
       "\n",
       "  vehicle_type_code_2   crash_time_category            crash_time  \n",
       "0                 NaN     evening (5pm-9pm)     evening (5pm-9pm)  \n",
       "1                 NaN  afternoon (12pm-5pm)  afternoon (12pm-5pm)  \n",
       "2                 NaN    morning (5am-12pm)    morning (5am-12pm)  \n",
       "3                 NaN     evening (5pm-9pm)     evening (5pm-9pm)  \n",
       "4                 NaN     evening (5pm-9pm)     evening (5pm-9pm)  "
      ]
     },
     "execution_count": 28,
     "metadata": {},
     "output_type": "execute_result"
    }
   ],
   "source": [
    "# checking for newly added column, crash_time_category exists\n",
    "data.head()"
   ]
  },
  {
   "cell_type": "code",
   "execution_count": 29,
   "metadata": {},
   "outputs": [
    {
     "data": {
      "text/plain": [
       "crash_time_category\n",
       "afternoon (12pm-5pm)     159049\n",
       "morning (5am-12pm)       153827\n",
       "evening (5pm-9pm)         93864\n",
       "late night (12am-5am)     60479\n",
       "night (9pm-12am)          32781\n",
       "Name: count, dtype: int64"
      ]
     },
     "execution_count": 29,
     "metadata": {},
     "output_type": "execute_result"
    }
   ],
   "source": [
    "data['crash_time_category'].value_counts()\n",
    "\n"
   ]
  },
  {
   "cell_type": "code",
   "execution_count": 30,
   "metadata": {},
   "outputs": [
    {
     "name": "stderr",
     "output_type": "stream",
     "text": [
      "C:\\Users\\jason\\AppData\\Local\\Temp\\ipykernel_9696\\3150277657.py:6: FutureWarning: \n",
      "\n",
      "Passing `palette` without assigning `hue` is deprecated and will be removed in v0.14.0. Assign the `x` variable to `hue` and set `legend=False` for the same effect.\n",
      "\n",
      "  sns.barplot(x=crash_time_category_count.index, y=crash_time_category_count.values, palette='deep')\n"
     ]
    },
    {
     "data": {
      "image/png": "[encoded data removed]",
      "text/plain": [
       "<Figure size 1200x700 with 1 Axes>"
      ]
     },
     "metadata": {},
     "output_type": "display_data"
    }
   ],
   "source": [
    "crash_time_category_count = data['crash_time_category'].value_counts()\n",
    "\n",
    "crash_time_category_count = crash_time_category_count.sort_index()\n",
    "\n",
    "plt.figure(figsize=(12, 7))\n",
    "sns.barplot(x=crash_time_category_count.index, y=crash_time_category_count.values, palette='deep')\n",
    "plt.title('Number of Crashes for the Time of Day')\n",
    "plt.xlabel('Time Category')\n",
    "plt.ylabel('Number of Crashes')\n",
    "\n",
    "\n",
    "plt.show()"
   ]
  },
  {
   "cell_type": "markdown",
   "metadata": {},
   "source": [
    "Which borough has the most car accidents?"
   ]
  },
  {
   "cell_type": "code",
   "execution_count": 31,
   "metadata": {},
   "outputs": [
    {
     "data": {
      "text/plain": [
       "Index(['crash_date', 'borough', 'zip_code', 'latitude', 'longitude',\n",
       "       'persons_injured', 'persons_killed', 'pedestrians_injured',\n",
       "       'pedestrians_killed', 'cyclist_injured', 'cyclist_killed',\n",
       "       'motorist_injured', 'motorist_killed', 'contributing_factor_vehicle_1',\n",
       "       'collision_id', 'vehicle_type_code_1', 'vehicle_type_code_2',\n",
       "       'crash_time_category', 'crash_time'],\n",
       "      dtype='object')"
      ]
     },
     "execution_count": 31,
     "metadata": {},
     "output_type": "execute_result"
    }
   ],
   "source": [
    "data.columns"
   ]
  },
  {
   "cell_type": "code",
   "execution_count": 32,
   "metadata": {},
   "outputs": [
    {
     "data": {
      "text/plain": [
       "borough\n",
       "BROOKLYN         109894\n",
       "QUEENS            91473\n",
       "BRONX             57992\n",
       "MANHATTAN         56316\n",
       "STATEN ISLAND     10364\n",
       "Name: count, dtype: int64"
      ]
     },
     "execution_count": 32,
     "metadata": {},
     "output_type": "execute_result"
    }
   ],
   "source": [
    "data['borough'].value_counts()"
   ]
  },
  {
   "cell_type": "code",
   "execution_count": 33,
   "metadata": {},
   "outputs": [
    {
     "data": {
      "image/png": "[encoded data removed]",
      "text/plain": [
       "<Figure size 1200x700 with 1 Axes>"
      ]
     },
     "metadata": {},
     "output_type": "display_data"
    }
   ],
   "source": [
    "boroughs = data['borough'].value_counts().sort_values()\n",
    "\n",
    "plt.figure(figsize=(12, 7))\n",
    "\n",
    "plt.barh(boroughs.index, boroughs.values, color='lightblue')\n",
    "\n",
    "for index, value in enumerate(boroughs.values):\n",
    "    plt.text(value, index, str(value))\n",
    "\n",
    "plt.title('Car Crashes in Each Borough')\n",
    "plt.xlabel('Number of Crashes')\n",
    "plt.ylabel('Boroughs')\n",
    "\n",
    "\n",
    "plt.show()"
   ]
  },
  {
   "cell_type": "markdown",
   "metadata": {},
   "source": [
    "Which time of year or season has the most car crashes?"
   ]
  },
  {
   "cell_type": "code",
   "execution_count": 34,
   "metadata": {},
   "outputs": [],
   "source": [
    "# Creating seasons column corresponding to the crash_date\n",
    "\n",
    "# Seasons of the year\n",
    "seasons = [\n",
    "  'Spring', # March to June\n",
    "  'Summer', # June to September\n",
    "  'Autumn', # September to December\n",
    "  'Winter' # December to March\n",
    "  ]\n",
    "\n",
    "# Extracting only the month and creating a month column\n",
    "data['month'] = data['crash_date'].dt.month\n",
    "\n",
    "\n",
    "season_months = [\n",
    "  (data['month'] >= 3) & (data['month'] <= 5), # Spring -- March to June\n",
    "  (data['month'] >= 7) & (data['month'] <= 8), # Summer -- June to September\n",
    "  (data['month'] >= 9) & (data['month'] <= 11), # Autumn -- September to December\n",
    "  (data['month'] == 12) | (data['month'] == 1) | (data['month'] == 2), # Winter -- December to March\n",
    "]\n",
    "\n",
    "# Adding seasons column using seasons and season_months\n",
    "data['seasons'] = pd.Categorical(np.select(season_months, seasons, default=''), categories=seasons)\n",
    "\n",
    "# Deleting unused columns from data\n",
    "data = data.drop(['month'], axis=1)"
   ]
  },
  {
   "cell_type": "code",
   "execution_count": 35,
   "metadata": {},
   "outputs": [
    {
     "data": {
      "text/html": [
       "<div>\n",
       "<style scoped>\n",
       "    .dataframe tbody tr th:only-of-type {\n",
       "        vertical-align: middle;\n",
       "    }\n",
       "\n",
       "    .dataframe tbody tr th {\n",
       "        vertical-align: top;\n",
       "    }\n",
       "\n",
       "    .dataframe thead th {\n",
       "        text-align: right;\n",
       "    }\n",
       "</style>\n",
       "<table border=\"1\" class=\"dataframe\">\n",
       "  <thead>\n",
       "    <tr style=\"text-align: right;\">\n",
       "      <th></th>\n",
       "      <th>crash_date</th>\n",
       "      <th>borough</th>\n",
       "      <th>zip_code</th>\n",
       "      <th>latitude</th>\n",
       "      <th>longitude</th>\n",
       "      <th>persons_injured</th>\n",
       "      <th>persons_killed</th>\n",
       "      <th>pedestrians_injured</th>\n",
       "      <th>pedestrians_killed</th>\n",
       "      <th>cyclist_injured</th>\n",
       "      <th>cyclist_killed</th>\n",
       "      <th>motorist_injured</th>\n",
       "      <th>motorist_killed</th>\n",
       "      <th>contributing_factor_vehicle_1</th>\n",
       "      <th>collision_id</th>\n",
       "      <th>vehicle_type_code_1</th>\n",
       "      <th>vehicle_type_code_2</th>\n",
       "      <th>crash_time_category</th>\n",
       "      <th>crash_time</th>\n",
       "      <th>seasons</th>\n",
       "    </tr>\n",
       "  </thead>\n",
       "  <tbody>\n",
       "    <tr>\n",
       "      <th>0</th>\n",
       "      <td>2024-02-20</td>\n",
       "      <td>MANHATTAN</td>\n",
       "      <td>10019.0</td>\n",
       "      <td>40.765250</td>\n",
       "      <td>-73.995094</td>\n",
       "      <td>1.0</td>\n",
       "      <td>0</td>\n",
       "      <td>1</td>\n",
       "      <td>0</td>\n",
       "      <td>0</td>\n",
       "      <td>0</td>\n",
       "      <td>0</td>\n",
       "      <td>0</td>\n",
       "      <td>NaN</td>\n",
       "      <td>4704029</td>\n",
       "      <td>Sedan</td>\n",
       "      <td>NaN</td>\n",
       "      <td>evening (5pm-9pm)</td>\n",
       "      <td>evening (5pm-9pm)</td>\n",
       "      <td>Winter</td>\n",
       "    </tr>\n",
       "    <tr>\n",
       "      <th>1</th>\n",
       "      <td>2024-02-20</td>\n",
       "      <td>NaN</td>\n",
       "      <td>NaN</td>\n",
       "      <td>40.679787</td>\n",
       "      <td>-73.938440</td>\n",
       "      <td>1.0</td>\n",
       "      <td>0</td>\n",
       "      <td>0</td>\n",
       "      <td>0</td>\n",
       "      <td>0</td>\n",
       "      <td>0</td>\n",
       "      <td>1</td>\n",
       "      <td>0</td>\n",
       "      <td>Passing Too Closely</td>\n",
       "      <td>4704115</td>\n",
       "      <td>Sedan</td>\n",
       "      <td>NaN</td>\n",
       "      <td>afternoon (12pm-5pm)</td>\n",
       "      <td>afternoon (12pm-5pm)</td>\n",
       "      <td>Winter</td>\n",
       "    </tr>\n",
       "    <tr>\n",
       "      <th>2</th>\n",
       "      <td>2024-02-20</td>\n",
       "      <td>QUEENS</td>\n",
       "      <td>11106.0</td>\n",
       "      <td>40.759422</td>\n",
       "      <td>-73.927470</td>\n",
       "      <td>0.0</td>\n",
       "      <td>0</td>\n",
       "      <td>0</td>\n",
       "      <td>0</td>\n",
       "      <td>0</td>\n",
       "      <td>0</td>\n",
       "      <td>0</td>\n",
       "      <td>0</td>\n",
       "      <td>Backing Unsafely</td>\n",
       "      <td>4704050</td>\n",
       "      <td>Pick-up Truck</td>\n",
       "      <td>NaN</td>\n",
       "      <td>morning (5am-12pm)</td>\n",
       "      <td>morning (5am-12pm)</td>\n",
       "      <td>Winter</td>\n",
       "    </tr>\n",
       "    <tr>\n",
       "      <th>3</th>\n",
       "      <td>2024-02-20</td>\n",
       "      <td>BRONX</td>\n",
       "      <td>10463.0</td>\n",
       "      <td>40.873917</td>\n",
       "      <td>-73.909260</td>\n",
       "      <td>0.0</td>\n",
       "      <td>0</td>\n",
       "      <td>0</td>\n",
       "      <td>0</td>\n",
       "      <td>0</td>\n",
       "      <td>0</td>\n",
       "      <td>0</td>\n",
       "      <td>0</td>\n",
       "      <td>Unspecified</td>\n",
       "      <td>4704256</td>\n",
       "      <td>Sedan</td>\n",
       "      <td>NaN</td>\n",
       "      <td>evening (5pm-9pm)</td>\n",
       "      <td>evening (5pm-9pm)</td>\n",
       "      <td>Winter</td>\n",
       "    </tr>\n",
       "    <tr>\n",
       "      <th>4</th>\n",
       "      <td>2024-02-20</td>\n",
       "      <td>NaN</td>\n",
       "      <td>NaN</td>\n",
       "      <td>NaN</td>\n",
       "      <td>NaN</td>\n",
       "      <td>0.0</td>\n",
       "      <td>0</td>\n",
       "      <td>0</td>\n",
       "      <td>0</td>\n",
       "      <td>0</td>\n",
       "      <td>0</td>\n",
       "      <td>0</td>\n",
       "      <td>0</td>\n",
       "      <td>Driver Inattention/Distraction</td>\n",
       "      <td>4704085</td>\n",
       "      <td>Box Truck</td>\n",
       "      <td>NaN</td>\n",
       "      <td>evening (5pm-9pm)</td>\n",
       "      <td>evening (5pm-9pm)</td>\n",
       "      <td>Winter</td>\n",
       "    </tr>\n",
       "  </tbody>\n",
       "</table>\n",
       "</div>"
      ],
      "text/plain": [
       "  crash_date    borough  zip_code   latitude  longitude  persons_injured  \\\n",
       "0 2024-02-20  MANHATTAN   10019.0  40.765250 -73.995094              1.0   \n",
       "1 2024-02-20        NaN       NaN  40.679787 -73.938440              1.0   \n",
       "2 2024-02-20     QUEENS   11106.0  40.759422 -73.927470              0.0   \n",
       "3 2024-02-20      BRONX   10463.0  40.873917 -73.909260              0.0   \n",
       "4 2024-02-20        NaN       NaN        NaN        NaN              0.0   \n",
       "\n",
       "   persons_killed  pedestrians_injured  pedestrians_killed  cyclist_injured  \\\n",
       "0               0                    1                   0                0   \n",
       "1               0                    0                   0                0   \n",
       "2               0                    0                   0                0   \n",
       "3               0                    0                   0                0   \n",
       "4               0                    0                   0                0   \n",
       "\n",
       "   cyclist_killed  motorist_injured  motorist_killed  \\\n",
       "0               0                 0                0   \n",
       "1               0                 1                0   \n",
       "2               0                 0                0   \n",
       "3               0                 0                0   \n",
       "4               0                 0                0   \n",
       "\n",
       "    contributing_factor_vehicle_1  collision_id vehicle_type_code_1  \\\n",
       "0                             NaN       4704029               Sedan   \n",
       "1             Passing Too Closely       4704115               Sedan   \n",
       "2                Backing Unsafely       4704050       Pick-up Truck   \n",
       "3                     Unspecified       4704256               Sedan   \n",
       "4  Driver Inattention/Distraction       4704085           Box Truck   \n",
       "\n",
       "  vehicle_type_code_2   crash_time_category            crash_time seasons  \n",
       "0                 NaN     evening (5pm-9pm)     evening (5pm-9pm)  Winter  \n",
       "1                 NaN  afternoon (12pm-5pm)  afternoon (12pm-5pm)  Winter  \n",
       "2                 NaN    morning (5am-12pm)    morning (5am-12pm)  Winter  \n",
       "3                 NaN     evening (5pm-9pm)     evening (5pm-9pm)  Winter  \n",
       "4                 NaN     evening (5pm-9pm)     evening (5pm-9pm)  Winter  "
      ]
     },
     "execution_count": 35,
     "metadata": {},
     "output_type": "execute_result"
    }
   ],
   "source": [
    "# Check if seasons column was added\n",
    "\n",
    "data.head()"
   ]
  },
  {
   "cell_type": "code",
   "execution_count": 36,
   "metadata": {},
   "outputs": [
    {
     "data": {
      "text/plain": [
       "seasons\n",
       "Spring    129669\n",
       "Winter    120684\n",
       "Autumn    110648\n",
       "Summer     91783\n",
       "Name: count, dtype: int64"
      ]
     },
     "execution_count": 36,
     "metadata": {},
     "output_type": "execute_result"
    }
   ],
   "source": [
    "data['seasons'].value_counts()"
   ]
  },
  {
   "cell_type": "code",
   "execution_count": 37,
   "metadata": {},
   "outputs": [
    {
     "name": "stderr",
     "output_type": "stream",
     "text": [
      "C:\\Users\\jason\\AppData\\Local\\Temp\\ipykernel_9696\\854676751.py:5: FutureWarning: \n",
      "\n",
      "Passing `palette` without assigning `hue` is deprecated and will be removed in v0.14.0. Assign the `x` variable to `hue` and set `legend=False` for the same effect.\n",
      "\n",
      "  sns.barplot(x=season_counts.index, y=season_counts.values, palette='deep')\n"
     ]
    },
    {
     "data": {
      "image/png": "[encoded data removed]",
      "text/plain": [
       "<Figure size 1000x600 with 1 Axes>"
      ]
     },
     "metadata": {},
     "output_type": "display_data"
    }
   ],
   "source": [
    "season_counts = data['seasons'].value_counts()\n",
    "\n",
    "\n",
    "plt.figure(figsize=(10, 6))\n",
    "sns.barplot(x=season_counts.index, y=season_counts.values, palette='deep')\n",
    "plt.title('Number of Car Crashes by Season')\n",
    "plt.xlabel('Seasons')\n",
    "plt.ylabel('Number of Car Crashes')\n",
    "plt.show()"
   ]
  },
  {
   "cell_type": "code",
   "execution_count": 38,
   "metadata": {},
   "outputs": [],
   "source": [
    "data.to_excel('car-accidents-final.xlsx', sheet_name='Data')"
   ]
  },
  {
   "cell_type": "code",
   "execution_count": null,
   "metadata": {},
   "outputs": [],
   "source": []
  },
  {
   "cell_type": "code",
   "execution_count": null,
   "metadata": {},
   "outputs": [],
   "source": []
  },
  {
   "cell_type": "code",
   "execution_count": null,
   "metadata": {},
   "outputs": [],
   "source": []
  }
 ],
 "metadata": {
  "kernelspec": {
   "display_name": "Python 3",
   "language": "python",
   "name": "python3"
  },
  "language_info": {
   "codemirror_mode": {
    "name": "ipython",
    "version": 3
   },
   "file_extension": ".py",
   "mimetype": "text/x-python",
   "name": "python",
   "nbconvert_exporter": "python",
   "pygments_lexer": "ipython3",
   "version": "3.11.1"
  }
 },
 "nbformat": 4,
 "nbformat_minor": 2
}
